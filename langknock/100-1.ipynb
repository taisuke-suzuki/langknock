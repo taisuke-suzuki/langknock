{
 "cells": [
  {
   "cell_type": "code",
   "execution_count": 1,
   "metadata": {
    "collapsed": false
   },
   "outputs": [
    {
     "name": "stdout",
     "output_type": "stream",
     "text": [
      "desserts\n"
     ]
    }
   ],
   "source": [
    "msg = \"stressed\"\n",
    "print(msg[::-1])"
   ]
  },
  {
   "cell_type": "code",
   "execution_count": 2,
   "metadata": {
    "collapsed": false
   },
   "outputs": [
    {
     "name": "stdout",
     "output_type": "stream",
     "text": [
      "パトカー\n"
     ]
    }
   ],
   "source": [
    "msg =\"パタトクカシー\"\n",
    "print(msg[0::2])"
   ]
  },
  {
   "cell_type": "code",
   "execution_count": 3,
   "metadata": {
    "collapsed": false
   },
   "outputs": [
    {
     "name": "stdout",
     "output_type": "stream",
     "text": [
      "パタトクカシーー\n"
     ]
    }
   ],
   "source": [
    "a =\"パトカー\"\n",
    "b=\"タクシー\"\n",
    "c=\"\"\n",
    "d=0\n",
    "for i in a:\n",
    "    c=c+a[d]+b[d]\n",
    "    d+=1\n",
    "print(c)"
   ]
  },
  {
   "cell_type": "code",
   "execution_count": 4,
   "metadata": {
    "collapsed": false
   },
   "outputs": [
    {
     "name": "stdout",
     "output_type": "stream",
     "text": [
      "パタトクカシーー\n"
     ]
    }
   ],
   "source": [
    "a =\"パトカー\"\n",
    "b=\"タクシー\"\n",
    "\n",
    "c = [a[i]+b[i] for i in range(len(a))]\n",
    "print(\"\".join(c))"
   ]
  },
  {
   "cell_type": "code",
   "execution_count": 5,
   "metadata": {
    "collapsed": false
   },
   "outputs": [
    {
     "name": "stdout",
     "output_type": "stream",
     "text": [
      "[3, 1, 4, 1, 5, 9, 2, 6, 5, 3, 5, 8, 9, 7, 9]\n"
     ]
    }
   ],
   "source": [
    "msg =\"Now I need a drink, alcoholic of course, after the heavy lectures involving quantum mechanics.\"\n",
    "words = msg.split()\n",
    "a =[]\n",
    "for i in words:\n",
    "    a.append(len(i.strip(\". ,\")))\n",
    "    \n",
    "print(a)"
   ]
  },
  {
   "cell_type": "code",
   "execution_count": 6,
   "metadata": {
    "collapsed": false
   },
   "outputs": [
    {
     "name": "stdout",
     "output_type": "stream",
     "text": [
      "[3, 1, 4, 1, 5, 9, 2, 6, 5, 3, 5, 8, 9, 7, 9]\n"
     ]
    }
   ],
   "source": [
    "msg =\"Now I need a drink, alcoholic of course, after the heavy lectures involving quantum mechanics.\"\n",
    "msg_new =[len(i.strip(\". ,\")) for i in msg.split()]\n",
    "print(msg_new)"
   ]
  },
  {
   "cell_type": "code",
   "execution_count": 7,
   "metadata": {
    "collapsed": false
   },
   "outputs": [
    {
     "name": "stdout",
     "output_type": "stream",
     "text": [
      "['I ', ' a', 'am', 'm ', ' a', 'an', 'n ', ' N', 'NL', 'LP', 'Pe', 'er']\n",
      "[['I', 'am'], ['am', 'an'], ['an', 'NLPer']]\n"
     ]
    }
   ],
   "source": [
    "#sample\n",
    "s =\"I am an NLPer\"\n",
    "def ngram(input, n):\n",
    "    list = []\n",
    "    for i in range(0, len(input) - n + 1):\n",
    "        list.append(input[i:i+n])\n",
    "    return list\n",
    "\n",
    "print(ngram(s, 2))\n",
    "\n",
    "s = s.split()\n",
    "print(ngram(s, 2))"
   ]
  },
  {
   "cell_type": "code",
   "execution_count": null,
   "metadata": {
    "collapsed": true
   },
   "outputs": [],
   "source": []
  },
  {
   "cell_type": "code",
   "execution_count": 8,
   "metadata": {
    "collapsed": false
   },
   "outputs": [
    {
     "name": "stdout",
     "output_type": "stream",
     "text": [
      "{1: 'H', 2: 'He', 3: 'Li', 4: 'Be', 5: 'B', 6: 'C', 7: 'N', 8: 'O', 9: 'F', 10: 'Ne', 11: 'Na', 12: 'Mi', 13: 'Al', 14: 'Si', 15: 'P', 16: 'S', 17: 'Cl', 18: 'Ar', 19: 'K', 20: 'Ca'}\n"
     ]
    }
   ],
   "source": [
    "msg=\"Hi He Lied Because Boron Could Not Oxidize Fluorine. New Nations Might Also Sign Peace Security Clause. Arthur King Can.\"\n",
    "words = msg.split()\n",
    "number = [1,5,6,7,8,9,15,16,19]\n",
    "n=1\n",
    "dic={}\n",
    "for i in words:\n",
    "    if n in number:\n",
    "        dic[n] = i[0]\n",
    "    else:\n",
    "        dic[n]=i[0]+i[1]\n",
    "    n+=1\n",
    "        \n",
    "print(dic)"
   ]
  },
  {
   "cell_type": "code",
   "execution_count": 9,
   "metadata": {
    "collapsed": true
   },
   "outputs": [],
   "source": [
    "msg=\"Hi He Lied Because Boron Could Not Oxidize Fluorine. New Nations Might Also Sign Peace Security Clause. Arthur King Can.\"\n",
    "words = msg.split()\n",
    "number = [1,5,6,7,8,9,15,16,19]\n",
    "n=0\n",
    "dic={}\n"
   ]
  },
  {
   "cell_type": "code",
   "execution_count": 10,
   "metadata": {
    "collapsed": false
   },
   "outputs": [
    {
     "name": "stdout",
     "output_type": "stream",
     "text": [
      "['I ', ' a', 'am', 'm ', ' a', 'an', 'n ', ' N', 'NL', 'LP', 'Pe', 'er']\n",
      "[['I', 'am'], ['am', 'an'], ['an', 'NLPer']]\n"
     ]
    }
   ],
   "source": [
    "def ngram(input):\n",
    "    list=[]\n",
    "    for i in range(0,len(input)-1):\n",
    "        list.append(input[i:i+2])\n",
    "    return list\n",
    "\n",
    "sec =\"I am an NLPer\"\n",
    "print(ngram(sec))\n",
    "words = sec.split()\n",
    "print(ngram(words))"
   ]
  },
  {
   "cell_type": "code",
   "execution_count": 11,
   "metadata": {
    "collapsed": false
   },
   "outputs": [
    {
     "name": "stdout",
     "output_type": "stream",
     "text": [
      "{'pa', 'di', 'ph', 'ar', 'ad', 'is', 'ap', 'gr', 'se', 'ag', 'ra'}\n",
      "{'ap', 'ra', 'pa', 'ar'}\n",
      "{'ad', 'is', 'se', 'di'}\n",
      "{'ph', 'ag', 'gr'}\n",
      "True\n"
     ]
    }
   ],
   "source": [
    "def ngram(input):\n",
    "    list=[]\n",
    "    for i in range(0,len(input)-1):\n",
    "        list.append(input[i:i+2])\n",
    "    return list\n",
    "\n",
    "a=\"paraparaparadise\"\n",
    "b=\"paragraph\"\n",
    "x=set(ngram(a))\n",
    "y=set(ngram(b))\n",
    "print(x.union(y))\n",
    "print(x.intersection(y))\n",
    "print(x.difference(y))\n",
    "print(y.difference(x))\n",
    "print('se' in x or y)"
   ]
  },
  {
   "cell_type": "code",
   "execution_count": 12,
   "metadata": {
    "collapsed": false
   },
   "outputs": [
    {
     "name": "stdout",
     "output_type": "stream",
     "text": [
      "12時の気温は22.4\n"
     ]
    }
   ],
   "source": [
    "def templete(x,y,z):\n",
    "    return(str(x)+\"時の\"+y+\"は\"+str(z))\n",
    "\n",
    "x=12\n",
    "y=\"気温\"\n",
    "z=22.4\n",
    "print(templete(x,y,z))"
   ]
  },
  {
   "cell_type": "code",
   "execution_count": 13,
   "metadata": {
    "collapsed": false
   },
   "outputs": [
    {
     "name": "stdout",
     "output_type": "stream",
     "text": [
      "I culdon't bveiele that I culod aatlucly uandtnsred what I was riadeng : the pahmeneonl peowr of the hamun mind .\n"
     ]
    }
   ],
   "source": [
    "import random\n",
    "sentense=\"I couldn't believe that I could actually understand what I was reading : the phenomenal power of the human mind .\"\n",
    "sentense=sentense.split(\" \")\n",
    "sentense_new=[]\n",
    "for i in sentense:\n",
    "    if len(i) >4:\n",
    "        i_list = list(i[1:-1])\n",
    "        random.shuffle(i_list)\n",
    "        sentense_new.append(i[0] + ''.join(i_list) + i[-1])\n",
    "    else:\n",
    "        sentense_new.append(i)\n",
    "print(\" \".join(sentense_new))"
   ]
  }
 ],
 "metadata": {
  "kernelspec": {
   "display_name": "Python 3",
   "language": "python",
   "name": "python3"
  },
  "language_info": {
   "codemirror_mode": {
    "name": "ipython",
    "version": 3
   },
   "file_extension": ".py",
   "mimetype": "text/x-python",
   "name": "python",
   "nbconvert_exporter": "python",
   "pygments_lexer": "ipython3",
   "version": "3.5.4"
  }
 },
 "nbformat": 4,
 "nbformat_minor": 0
}
